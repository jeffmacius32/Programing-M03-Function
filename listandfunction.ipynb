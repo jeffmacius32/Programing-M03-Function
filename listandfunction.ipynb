{
 "cells": [
  {
   "cell_type": "code",
   "execution_count": 129,
   "id": "303325a6-339a-4db3-bf37-69be68dca7f0",
   "metadata": {},
   "outputs": [
    {
     "name": "stdout",
     "output_type": "stream",
     "text": [
      "['mozzarella', 'cinderella', 'salmonella']\n",
      "['MOZZARELLA', 'Cinderella']\n"
     ]
    },
    {
     "ename": "IndexError",
     "evalue": "list index out of range",
     "output_type": "error",
     "traceback": [
      "\u001b[0;31m---------------------------------------------------------------------------\u001b[0m",
      "\u001b[0;31mIndexError\u001b[0m                                Traceback (most recent call last)",
      "Cell \u001b[0;32mIn[129], line 8\u001b[0m\n\u001b[1;32m      5\u001b[0m things[\u001b[38;5;241m0\u001b[39m] \u001b[38;5;241m=\u001b[39m things[\u001b[38;5;241m0\u001b[39m]\u001b[38;5;241m.\u001b[39mupper()\n\u001b[1;32m      6\u001b[0m \u001b[38;5;66;03m# things[1] = things.lower()\u001b[39;00m\n\u001b[1;32m      7\u001b[0m \u001b[38;5;66;03m# things[0] = \"MOZZARELLA\"\u001b[39;00m\n\u001b[0;32m----> 8\u001b[0m things\u001b[38;5;241m.\u001b[39mremove(things[\u001b[38;5;241m2\u001b[39m])\n",
      "\u001b[0;31mIndexError\u001b[0m: list index out of range"
     ]
    }
   ],
   "source": [
    "things = [\"mozzarella\", \"cinderella\", \"salmonella\"]\n",
    "for thing in things:\n",
    "    print(things)\n",
    "    things[1] = things[1].capitalize()\n",
    "    things[0] = things[0].upper()\n",
    "    things.remove(things[2])\n",
    " \n"
   ]
  },
  {
   "cell_type": "code",
   "execution_count": 153,
   "id": "d781d25f-30a0-46b7-8796-aaae101ba9aa",
   "metadata": {},
   "outputs": [
    {
     "name": "stdout",
     "output_type": "stream",
     "text": [
      "['Harry', 'Ron', 'Hermione']\n",
      "The third odd number is: 5\n"
     ]
    }
   ],
   "source": [
    "def good():\n",
    "    return [\"Harry\", \"Ron\", \"Hermione\"]\n",
    "print(good())\n",
    "\n",
    "def get_odds():\n",
    "    for num in range(10):\n",
    "        if num % 2 != 0:\n",
    "            yield num\n",
    "\n",
    "\n",
    "count = 0\n",
    "for odd_number in get_odds():\n",
    "    count += 1\n",
    "    if count == 3:\n",
    "        print(\"The third odd number is:\", odd_number)\n",
    "        break"
   ]
  }
 ],
 "metadata": {
  "kernelspec": {
   "display_name": "Python 3 (ipykernel)",
   "language": "python",
   "name": "python3"
  },
  "language_info": {
   "codemirror_mode": {
    "name": "ipython",
    "version": 3
   },
   "file_extension": ".py",
   "mimetype": "text/x-python",
   "name": "python",
   "nbconvert_exporter": "python",
   "pygments_lexer": "ipython3",
   "version": "3.11.7"
  }
 },
 "nbformat": 4,
 "nbformat_minor": 5
}
